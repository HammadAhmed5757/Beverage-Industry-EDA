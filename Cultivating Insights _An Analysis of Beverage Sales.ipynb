{
 "cells": [
  {
   "cell_type": "markdown",
   "id": "54eca039",
   "metadata": {},
   "source": [
    "### `Beverage Sales Data`\n",
    "Welcome to our comprehensive dataset on beverage sales, a treasure trove of insights into consumer preferences, market trends, and business performance. Compiled meticulously over years of diligent data collection and analysis, this dataset offers a comprehensive view of our beverage sales across various dimensions.\n",
    "\n",
    "Containing detailed records of sales transactions, product information, geographic distribution, and more, this dataset serves as a valuable resource for understanding the dynamics of our industry and informing strategic decision-making."
   ]
  },
  {
   "cell_type": "code",
   "execution_count": 1,
   "id": "c34cde53",
   "metadata": {},
   "outputs": [],
   "source": [
    "#importing libraries\n",
    "import pandas as pd\n",
    "import numpy as np\n",
    "import matplotlib.pyplot as plt\n",
    "import seaborn as sns"
   ]
  },
  {
   "cell_type": "code",
   "execution_count": 2,
   "id": "24c531b2",
   "metadata": {
    "scrolled": true
   },
   "outputs": [
    {
     "data": {
      "text/html": [
       "<div>\n",
       "<style scoped>\n",
       "    .dataframe tbody tr th:only-of-type {\n",
       "        vertical-align: middle;\n",
       "    }\n",
       "\n",
       "    .dataframe tbody tr th {\n",
       "        vertical-align: top;\n",
       "    }\n",
       "\n",
       "    .dataframe thead th {\n",
       "        text-align: right;\n",
       "    }\n",
       "</style>\n",
       "<table border=\"1\" class=\"dataframe\">\n",
       "  <thead>\n",
       "    <tr style=\"text-align: right;\">\n",
       "      <th></th>\n",
       "      <th>SrNo</th>\n",
       "      <th>TransactionDate</th>\n",
       "      <th>RetailerId</th>\n",
       "      <th>RetailerName</th>\n",
       "      <th>State</th>\n",
       "      <th>City</th>\n",
       "      <th>Lat</th>\n",
       "      <th>Long</th>\n",
       "      <th>ProductItemID</th>\n",
       "      <th>Category</th>\n",
       "      <th>...</th>\n",
       "      <th>SalesChannel</th>\n",
       "      <th>ChannelType</th>\n",
       "      <th>OrderQty</th>\n",
       "      <th>OrderQty_N</th>\n",
       "      <th>SalesValue</th>\n",
       "      <th>Discount</th>\n",
       "      <th>Country</th>\n",
       "      <th>CostPerUnit</th>\n",
       "      <th>MarginPercentage</th>\n",
       "      <th>Profit</th>\n",
       "    </tr>\n",
       "  </thead>\n",
       "  <tbody>\n",
       "    <tr>\n",
       "      <th>0</th>\n",
       "      <td>1</td>\n",
       "      <td>2020/08/26</td>\n",
       "      <td>376</td>\n",
       "      <td>Kiwi Corner Creations</td>\n",
       "      <td>Canterbury</td>\n",
       "      <td>Christchurch</td>\n",
       "      <td>-43.5321</td>\n",
       "      <td>172.6362</td>\n",
       "      <td>65</td>\n",
       "      <td>Cold Bewerages</td>\n",
       "      <td>...</td>\n",
       "      <td>E-Commerce</td>\n",
       "      <td>Online</td>\n",
       "      <td>254</td>\n",
       "      <td>254</td>\n",
       "      <td>34290</td>\n",
       "      <td>10</td>\n",
       "      <td>New Zealand</td>\n",
       "      <td>128</td>\n",
       "      <td>0.15</td>\n",
       "      <td>1905</td>\n",
       "    </tr>\n",
       "    <tr>\n",
       "      <th>1</th>\n",
       "      <td>2</td>\n",
       "      <td>2021/06/09</td>\n",
       "      <td>324</td>\n",
       "      <td>Krabi Craftsmarket</td>\n",
       "      <td>Krabi</td>\n",
       "      <td>Ao Nang</td>\n",
       "      <td>8.0376</td>\n",
       "      <td>98.8150</td>\n",
       "      <td>24</td>\n",
       "      <td>Cold Bewerages</td>\n",
       "      <td>...</td>\n",
       "      <td>Vending Machines</td>\n",
       "      <td>D2C</td>\n",
       "      <td>80</td>\n",
       "      <td>80</td>\n",
       "      <td>4560</td>\n",
       "      <td>5</td>\n",
       "      <td>Thailand</td>\n",
       "      <td>48</td>\n",
       "      <td>0.20</td>\n",
       "      <td>720</td>\n",
       "    </tr>\n",
       "    <tr>\n",
       "      <th>2</th>\n",
       "      <td>3</td>\n",
       "      <td>2020/06/14</td>\n",
       "      <td>335</td>\n",
       "      <td>Ha Long Bay Haven Finds</td>\n",
       "      <td>Quang Ninh</td>\n",
       "      <td>Ha Long</td>\n",
       "      <td>20.9517</td>\n",
       "      <td>107.0894</td>\n",
       "      <td>124</td>\n",
       "      <td>Cold Bewerages</td>\n",
       "      <td>...</td>\n",
       "      <td>Airline and Travel Catering</td>\n",
       "      <td>D2C</td>\n",
       "      <td>108</td>\n",
       "      <td>108</td>\n",
       "      <td>4471</td>\n",
       "      <td>8</td>\n",
       "      <td>Vietnam</td>\n",
       "      <td>38</td>\n",
       "      <td>0.15</td>\n",
       "      <td>340</td>\n",
       "    </tr>\n",
       "    <tr>\n",
       "      <th>3</th>\n",
       "      <td>4</td>\n",
       "      <td>2019/08/03</td>\n",
       "      <td>578</td>\n",
       "      <td>Belait Boutique Finds</td>\n",
       "      <td>Belait</td>\n",
       "      <td>Kuala Belait</td>\n",
       "      <td>4.5841</td>\n",
       "      <td>114.1994</td>\n",
       "      <td>14</td>\n",
       "      <td>Cold Bewerages</td>\n",
       "      <td>...</td>\n",
       "      <td>Vending Machines</td>\n",
       "      <td>D2C</td>\n",
       "      <td>494</td>\n",
       "      <td>494</td>\n",
       "      <td>40014</td>\n",
       "      <td>10</td>\n",
       "      <td>Brunei</td>\n",
       "      <td>77</td>\n",
       "      <td>0.15</td>\n",
       "      <td>2223</td>\n",
       "    </tr>\n",
       "    <tr>\n",
       "      <th>4</th>\n",
       "      <td>5</td>\n",
       "      <td>2022/12/02</td>\n",
       "      <td>620</td>\n",
       "      <td>Surabaya Souvenirs</td>\n",
       "      <td>East Java</td>\n",
       "      <td>Surabaya</td>\n",
       "      <td>-7.2575</td>\n",
       "      <td>112.7521</td>\n",
       "      <td>137</td>\n",
       "      <td>Cold Bewerages</td>\n",
       "      <td>...</td>\n",
       "      <td>Club and Mass Merchandisers</td>\n",
       "      <td>Modern Trade</td>\n",
       "      <td>108</td>\n",
       "      <td>108</td>\n",
       "      <td>14904</td>\n",
       "      <td>8</td>\n",
       "      <td>Indonesia</td>\n",
       "      <td>128</td>\n",
       "      <td>0.15</td>\n",
       "      <td>1134</td>\n",
       "    </tr>\n",
       "    <tr>\n",
       "      <th>...</th>\n",
       "      <td>...</td>\n",
       "      <td>...</td>\n",
       "      <td>...</td>\n",
       "      <td>...</td>\n",
       "      <td>...</td>\n",
       "      <td>...</td>\n",
       "      <td>...</td>\n",
       "      <td>...</td>\n",
       "      <td>...</td>\n",
       "      <td>...</td>\n",
       "      <td>...</td>\n",
       "      <td>...</td>\n",
       "      <td>...</td>\n",
       "      <td>...</td>\n",
       "      <td>...</td>\n",
       "      <td>...</td>\n",
       "      <td>...</td>\n",
       "      <td>...</td>\n",
       "      <td>...</td>\n",
       "      <td>...</td>\n",
       "      <td>...</td>\n",
       "    </tr>\n",
       "    <tr>\n",
       "      <th>24995</th>\n",
       "      <td>24991</td>\n",
       "      <td>2019/02/17</td>\n",
       "      <td>577</td>\n",
       "      <td>Inle Lake Inspirations</td>\n",
       "      <td>Shan</td>\n",
       "      <td>Nyaungshwe</td>\n",
       "      <td>20.6566</td>\n",
       "      <td>96.9353</td>\n",
       "      <td>3</td>\n",
       "      <td>Cold Bewerages</td>\n",
       "      <td>...</td>\n",
       "      <td>Club and Mass Merchandisers</td>\n",
       "      <td>Modern Trade</td>\n",
       "      <td>300</td>\n",
       "      <td>300</td>\n",
       "      <td>13500</td>\n",
       "      <td>10</td>\n",
       "      <td>Myanmar</td>\n",
       "      <td>40</td>\n",
       "      <td>0.20</td>\n",
       "      <td>1500</td>\n",
       "    </tr>\n",
       "    <tr>\n",
       "      <th>24996</th>\n",
       "      <td>24995</td>\n",
       "      <td>2019/12/26</td>\n",
       "      <td>577</td>\n",
       "      <td>Inle Lake Inspirations</td>\n",
       "      <td>Shan</td>\n",
       "      <td>Nyaungshwe</td>\n",
       "      <td>20.6566</td>\n",
       "      <td>96.9353</td>\n",
       "      <td>85</td>\n",
       "      <td>Cold Bewerages</td>\n",
       "      <td>...</td>\n",
       "      <td>Retail Stores</td>\n",
       "      <td>General Trade</td>\n",
       "      <td>82</td>\n",
       "      <td>82</td>\n",
       "      <td>1948</td>\n",
       "      <td>5</td>\n",
       "      <td>Myanmar</td>\n",
       "      <td>21</td>\n",
       "      <td>0.15</td>\n",
       "      <td>205</td>\n",
       "    </tr>\n",
       "    <tr>\n",
       "      <th>24997</th>\n",
       "      <td>24996</td>\n",
       "      <td>2022/01/15</td>\n",
       "      <td>298</td>\n",
       "      <td>Belait Boutique Finds</td>\n",
       "      <td>Belait</td>\n",
       "      <td>Kuala Belait</td>\n",
       "      <td>4.5841</td>\n",
       "      <td>114.1994</td>\n",
       "      <td>108</td>\n",
       "      <td>Cold Bewerages</td>\n",
       "      <td>...</td>\n",
       "      <td>Event Sponsorship and Marketing Tie-Ins</td>\n",
       "      <td>D2C</td>\n",
       "      <td>42</td>\n",
       "      <td>42</td>\n",
       "      <td>2520</td>\n",
       "      <td>0</td>\n",
       "      <td>Brunei</td>\n",
       "      <td>54</td>\n",
       "      <td>0.10</td>\n",
       "      <td>252</td>\n",
       "    </tr>\n",
       "    <tr>\n",
       "      <th>24998</th>\n",
       "      <td>24997</td>\n",
       "      <td>2022/04/03</td>\n",
       "      <td>621</td>\n",
       "      <td>Singapore Silk Treasures</td>\n",
       "      <td>Singapore</td>\n",
       "      <td>Singapore</td>\n",
       "      <td>1.2844</td>\n",
       "      <td>103.8454</td>\n",
       "      <td>114</td>\n",
       "      <td>Cold Bewerages</td>\n",
       "      <td>...</td>\n",
       "      <td>Wholesale Distributors</td>\n",
       "      <td>General Trade</td>\n",
       "      <td>92</td>\n",
       "      <td>92</td>\n",
       "      <td>5244</td>\n",
       "      <td>5</td>\n",
       "      <td>Singapore</td>\n",
       "      <td>48</td>\n",
       "      <td>0.20</td>\n",
       "      <td>828</td>\n",
       "    </tr>\n",
       "    <tr>\n",
       "      <th>24999</th>\n",
       "      <td>24999</td>\n",
       "      <td>2019/06/25</td>\n",
       "      <td>595</td>\n",
       "      <td>Mekong Marvels Boutique</td>\n",
       "      <td>Can Tho</td>\n",
       "      <td>Can Tho</td>\n",
       "      <td>10.0451</td>\n",
       "      <td>105.7469</td>\n",
       "      <td>125</td>\n",
       "      <td>Cold Bewerages</td>\n",
       "      <td>...</td>\n",
       "      <td>Retail Stores</td>\n",
       "      <td>General Trade</td>\n",
       "      <td>242</td>\n",
       "      <td>242</td>\n",
       "      <td>14157</td>\n",
       "      <td>10</td>\n",
       "      <td>Vietnam</td>\n",
       "      <td>55</td>\n",
       "      <td>0.15</td>\n",
       "      <td>787</td>\n",
       "    </tr>\n",
       "  </tbody>\n",
       "</table>\n",
       "<p>25000 rows × 29 columns</p>\n",
       "</div>"
      ],
      "text/plain": [
       "        SrNo TransactionDate  RetailerId                 RetailerName  \\\n",
       "0          1      2020/08/26         376    Kiwi Corner Creations       \n",
       "1          2      2021/06/09         324   Krabi Craftsmarket           \n",
       "2          3      2020/06/14         335    Ha Long Bay Haven Finds     \n",
       "3          4      2019/08/03         578    Belait Boutique Finds       \n",
       "4          5      2022/12/02         620    Surabaya Souvenirs          \n",
       "...      ...             ...         ...                          ...   \n",
       "24995  24991      2019/02/17         577    Inle Lake Inspirations      \n",
       "24996  24995      2019/12/26         577    Inle Lake Inspirations      \n",
       "24997  24996      2022/01/15         298    Belait Boutique Finds       \n",
       "24998  24997      2022/04/03         621   Singapore Silk Treasures     \n",
       "24999  24999      2019/06/25         595    Mekong Marvels Boutique     \n",
       "\n",
       "            State                  City      Lat      Long  ProductItemID  \\\n",
       "0      Canterbury   Christchurch        -43.5321  172.6362             65   \n",
       "1           Krabi   Ao Nang               8.0376   98.8150             24   \n",
       "2      Quang Ninh   Ha Long              20.9517  107.0894            124   \n",
       "3          Belait   Kuala Belait          4.5841  114.1994             14   \n",
       "4       East Java   Surabaya             -7.2575  112.7521            137   \n",
       "...           ...                   ...      ...       ...            ...   \n",
       "24995        Shan   Nyaungshwe           20.6566   96.9353              3   \n",
       "24996        Shan   Nyaungshwe           20.6566   96.9353             85   \n",
       "24997      Belait   Kuala Belait          4.5841  114.1994            108   \n",
       "24998   Singapore   Singapore             1.2844  103.8454            114   \n",
       "24999     Can Tho   Can Tho              10.0451  105.7469            125   \n",
       "\n",
       "             Category  ...                             SalesChannel  \\\n",
       "0      Cold Bewerages  ...                               E-Commerce   \n",
       "1      Cold Bewerages  ...                         Vending Machines   \n",
       "2      Cold Bewerages  ...              Airline and Travel Catering   \n",
       "3      Cold Bewerages  ...                         Vending Machines   \n",
       "4      Cold Bewerages  ...              Club and Mass Merchandisers   \n",
       "...               ...  ...                                      ...   \n",
       "24995  Cold Bewerages  ...              Club and Mass Merchandisers   \n",
       "24996  Cold Bewerages  ...                            Retail Stores   \n",
       "24997  Cold Bewerages  ...  Event Sponsorship and Marketing Tie-Ins   \n",
       "24998  Cold Bewerages  ...                   Wholesale Distributors   \n",
       "24999  Cold Bewerages  ...                            Retail Stores   \n",
       "\n",
       "         ChannelType OrderQty OrderQty_N SalesValue  Discount        Country  \\\n",
       "0             Online      254        254      34290        10   New Zealand    \n",
       "1                D2C       80         80       4560         5   Thailand       \n",
       "2                D2C      108        108       4471         8   Vietnam        \n",
       "3                D2C      494        494      40014        10   Brunei         \n",
       "4       Modern Trade      108        108      14904         8   Indonesia      \n",
       "...              ...      ...        ...        ...       ...            ...   \n",
       "24995   Modern Trade      300        300      13500        10   Myanmar        \n",
       "24996  General Trade       82         82       1948         5   Myanmar        \n",
       "24997            D2C       42         42       2520         0   Brunei         \n",
       "24998  General Trade       92         92       5244         5   Singapore      \n",
       "24999  General Trade      242        242      14157        10   Vietnam        \n",
       "\n",
       "      CostPerUnit MarginPercentage Profit  \n",
       "0             128             0.15   1905  \n",
       "1              48             0.20    720  \n",
       "2              38             0.15    340  \n",
       "3              77             0.15   2223  \n",
       "4             128             0.15   1134  \n",
       "...           ...              ...    ...  \n",
       "24995          40             0.20   1500  \n",
       "24996          21             0.15    205  \n",
       "24997          54             0.10    252  \n",
       "24998          48             0.20    828  \n",
       "24999          55             0.15    787  \n",
       "\n",
       "[25000 rows x 29 columns]"
      ]
     },
     "execution_count": 2,
     "metadata": {},
     "output_type": "execute_result"
    }
   ],
   "source": [
    "df = pd.read_csv('BeverageSalesData.csv')\n",
    "df"
   ]
  },
  {
   "cell_type": "code",
   "execution_count": 3,
   "id": "b0c4b2c6",
   "metadata": {},
   "outputs": [
    {
     "data": {
      "text/plain": [
       "SrNo                -0.009925\n",
       "RetailerId          -0.003725\n",
       "Lat                  0.004400\n",
       "Long                -0.001328\n",
       "ProductItemID        0.262634\n",
       "PackagingQty_N_ml    0.430070\n",
       "MRP_UnitPrice        0.708216\n",
       "OrderQty             0.570629\n",
       "OrderQty_N           0.570629\n",
       "SalesValue           1.000000\n",
       "Discount             0.446507\n",
       "CostPerUnit          0.706952\n",
       "MarginPercentage    -0.007459\n",
       "Profit               0.875168\n",
       "Name: SalesValue, dtype: float64"
      ]
     },
     "execution_count": 3,
     "metadata": {},
     "output_type": "execute_result"
    }
   ],
   "source": [
    "df.corr()[\"SalesValue\"]"
   ]
  },
  {
   "cell_type": "code",
   "execution_count": 4,
   "id": "c92113fa",
   "metadata": {},
   "outputs": [
    {
     "data": {
      "text/plain": [
       "Index(['SrNo', 'TransactionDate', 'RetailerId', 'RetailerName', 'State',\n",
       "       'City', 'Lat', 'Long', 'ProductItemID', 'Category', 'Brand', 'Product',\n",
       "       'PackagingType', 'PackagingQty', 'PackagingCategory',\n",
       "       'PackagingQty_N_ml', 'MRP_UnitPrice', 'Product_Launch_Date',\n",
       "       'IsNewProduct', 'SalesChannel', 'ChannelType', 'OrderQty', 'OrderQty_N',\n",
       "       'SalesValue', 'Discount', 'Country', 'CostPerUnit', 'MarginPercentage',\n",
       "       'Profit'],\n",
       "      dtype='object')"
      ]
     },
     "execution_count": 4,
     "metadata": {},
     "output_type": "execute_result"
    }
   ],
   "source": [
    "df.columns"
   ]
  },
  {
   "cell_type": "code",
   "execution_count": 5,
   "id": "7bd3de00",
   "metadata": {},
   "outputs": [],
   "source": [
    "df = df[['Country','Category','Brand','Product','MRP_UnitPrice','TransactionDate','Product_Launch_Date','OrderQty','SalesValue','CostPerUnit','Profit']]"
   ]
  },
  {
   "cell_type": "code",
   "execution_count": 6,
   "id": "e179ed70",
   "metadata": {},
   "outputs": [
    {
     "data": {
      "text/plain": [
       "Cold Bewerages    23595\n",
       "Hot Bewerages      1405\n",
       "Name: Category, dtype: int64"
      ]
     },
     "execution_count": 6,
     "metadata": {},
     "output_type": "execute_result"
    }
   ],
   "source": [
    "df[\"Category\"].value_counts()"
   ]
  },
  {
   "cell_type": "code",
   "execution_count": 7,
   "id": "4504d57f",
   "metadata": {},
   "outputs": [
    {
     "data": {
      "text/html": [
       "<div>\n",
       "<style scoped>\n",
       "    .dataframe tbody tr th:only-of-type {\n",
       "        vertical-align: middle;\n",
       "    }\n",
       "\n",
       "    .dataframe tbody tr th {\n",
       "        vertical-align: top;\n",
       "    }\n",
       "\n",
       "    .dataframe thead th {\n",
       "        text-align: right;\n",
       "    }\n",
       "</style>\n",
       "<table border=\"1\" class=\"dataframe\">\n",
       "  <thead>\n",
       "    <tr style=\"text-align: right;\">\n",
       "      <th></th>\n",
       "      <th>Country</th>\n",
       "      <th>Category</th>\n",
       "      <th>Brand</th>\n",
       "      <th>Product</th>\n",
       "      <th>MRP_UnitPrice</th>\n",
       "      <th>TransactionDate</th>\n",
       "      <th>Product_Launch_Date</th>\n",
       "      <th>OrderQty</th>\n",
       "      <th>SalesValue</th>\n",
       "      <th>CostPerUnit</th>\n",
       "      <th>Profit</th>\n",
       "    </tr>\n",
       "  </thead>\n",
       "  <tbody>\n",
       "    <tr>\n",
       "      <th>0</th>\n",
       "      <td>New Zealand</td>\n",
       "      <td>Cold Bewerages</td>\n",
       "      <td>Limca</td>\n",
       "      <td>Limca</td>\n",
       "      <td>150</td>\n",
       "      <td>2020/08/26</td>\n",
       "      <td>2016/03/17</td>\n",
       "      <td>254</td>\n",
       "      <td>34290</td>\n",
       "      <td>128</td>\n",
       "      <td>1905</td>\n",
       "    </tr>\n",
       "    <tr>\n",
       "      <th>1</th>\n",
       "      <td>Thailand</td>\n",
       "      <td>Cold Bewerages</td>\n",
       "      <td>Coca_Cola</td>\n",
       "      <td>Coca_Cola Zero Sugar</td>\n",
       "      <td>60</td>\n",
       "      <td>2021/06/09</td>\n",
       "      <td>2000/03/25</td>\n",
       "      <td>80</td>\n",
       "      <td>4560</td>\n",
       "      <td>48</td>\n",
       "      <td>720</td>\n",
       "    </tr>\n",
       "    <tr>\n",
       "      <th>2</th>\n",
       "      <td>Vietnam</td>\n",
       "      <td>Cold Bewerages</td>\n",
       "      <td>Minute Maid</td>\n",
       "      <td>Pulpy Orange</td>\n",
       "      <td>45</td>\n",
       "      <td>2020/06/14</td>\n",
       "      <td>1993/09/21</td>\n",
       "      <td>108</td>\n",
       "      <td>4471</td>\n",
       "      <td>38</td>\n",
       "      <td>340</td>\n",
       "    </tr>\n",
       "    <tr>\n",
       "      <th>3</th>\n",
       "      <td>Brunei</td>\n",
       "      <td>Cold Bewerages</td>\n",
       "      <td>Coca_Cola</td>\n",
       "      <td>Coca_Cola</td>\n",
       "      <td>90</td>\n",
       "      <td>2019/08/03</td>\n",
       "      <td>2014/07/04</td>\n",
       "      <td>494</td>\n",
       "      <td>40014</td>\n",
       "      <td>77</td>\n",
       "      <td>2223</td>\n",
       "    </tr>\n",
       "    <tr>\n",
       "      <th>4</th>\n",
       "      <td>Indonesia</td>\n",
       "      <td>Cold Bewerages</td>\n",
       "      <td>RimZim</td>\n",
       "      <td>RimZim</td>\n",
       "      <td>150</td>\n",
       "      <td>2022/12/02</td>\n",
       "      <td>1991/06/15</td>\n",
       "      <td>108</td>\n",
       "      <td>14904</td>\n",
       "      <td>128</td>\n",
       "      <td>1134</td>\n",
       "    </tr>\n",
       "    <tr>\n",
       "      <th>...</th>\n",
       "      <td>...</td>\n",
       "      <td>...</td>\n",
       "      <td>...</td>\n",
       "      <td>...</td>\n",
       "      <td>...</td>\n",
       "      <td>...</td>\n",
       "      <td>...</td>\n",
       "      <td>...</td>\n",
       "      <td>...</td>\n",
       "      <td>...</td>\n",
       "      <td>...</td>\n",
       "    </tr>\n",
       "    <tr>\n",
       "      <th>24995</th>\n",
       "      <td>Myanmar</td>\n",
       "      <td>Cold Bewerages</td>\n",
       "      <td>Coca_Cola</td>\n",
       "      <td>Coca_Cola</td>\n",
       "      <td>50</td>\n",
       "      <td>2019/02/17</td>\n",
       "      <td>2000/06/17</td>\n",
       "      <td>300</td>\n",
       "      <td>13500</td>\n",
       "      <td>40</td>\n",
       "      <td>1500</td>\n",
       "    </tr>\n",
       "    <tr>\n",
       "      <th>24996</th>\n",
       "      <td>Myanmar</td>\n",
       "      <td>Cold Bewerages</td>\n",
       "      <td>Maaza</td>\n",
       "      <td>Maaza Original</td>\n",
       "      <td>25</td>\n",
       "      <td>2019/12/26</td>\n",
       "      <td>2001/12/24</td>\n",
       "      <td>82</td>\n",
       "      <td>1948</td>\n",
       "      <td>21</td>\n",
       "      <td>205</td>\n",
       "    </tr>\n",
       "    <tr>\n",
       "      <th>24997</th>\n",
       "      <td>Brunei</td>\n",
       "      <td>Cold Bewerages</td>\n",
       "      <td>Kinley</td>\n",
       "      <td>Kinley</td>\n",
       "      <td>60</td>\n",
       "      <td>2022/01/15</td>\n",
       "      <td>2005/04/06</td>\n",
       "      <td>42</td>\n",
       "      <td>2520</td>\n",
       "      <td>54</td>\n",
       "      <td>252</td>\n",
       "    </tr>\n",
       "    <tr>\n",
       "      <th>24998</th>\n",
       "      <td>Singapore</td>\n",
       "      <td>Cold Bewerages</td>\n",
       "      <td>Kinley Soda</td>\n",
       "      <td>Kinley Soda</td>\n",
       "      <td>60</td>\n",
       "      <td>2022/04/03</td>\n",
       "      <td>2005/02/13</td>\n",
       "      <td>92</td>\n",
       "      <td>5244</td>\n",
       "      <td>48</td>\n",
       "      <td>828</td>\n",
       "    </tr>\n",
       "    <tr>\n",
       "      <th>24999</th>\n",
       "      <td>Vietnam</td>\n",
       "      <td>Cold Bewerages</td>\n",
       "      <td>Minute Maid</td>\n",
       "      <td>Pulpy Orange</td>\n",
       "      <td>65</td>\n",
       "      <td>2019/06/25</td>\n",
       "      <td>1993/09/14</td>\n",
       "      <td>242</td>\n",
       "      <td>14157</td>\n",
       "      <td>55</td>\n",
       "      <td>787</td>\n",
       "    </tr>\n",
       "  </tbody>\n",
       "</table>\n",
       "<p>25000 rows × 11 columns</p>\n",
       "</div>"
      ],
      "text/plain": [
       "             Country        Category        Brand               Product  \\\n",
       "0       New Zealand   Cold Bewerages        Limca                 Limca   \n",
       "1       Thailand      Cold Bewerages    Coca_Cola  Coca_Cola Zero Sugar   \n",
       "2       Vietnam       Cold Bewerages  Minute Maid          Pulpy Orange   \n",
       "3       Brunei        Cold Bewerages    Coca_Cola             Coca_Cola   \n",
       "4       Indonesia     Cold Bewerages       RimZim                RimZim   \n",
       "...              ...             ...          ...                   ...   \n",
       "24995   Myanmar       Cold Bewerages    Coca_Cola             Coca_Cola   \n",
       "24996   Myanmar       Cold Bewerages        Maaza        Maaza Original   \n",
       "24997   Brunei        Cold Bewerages       Kinley                Kinley   \n",
       "24998   Singapore     Cold Bewerages  Kinley Soda           Kinley Soda   \n",
       "24999   Vietnam       Cold Bewerages  Minute Maid          Pulpy Orange   \n",
       "\n",
       "       MRP_UnitPrice TransactionDate Product_Launch_Date  OrderQty  \\\n",
       "0                150      2020/08/26          2016/03/17       254   \n",
       "1                 60      2021/06/09          2000/03/25        80   \n",
       "2                 45      2020/06/14          1993/09/21       108   \n",
       "3                 90      2019/08/03          2014/07/04       494   \n",
       "4                150      2022/12/02          1991/06/15       108   \n",
       "...              ...             ...                 ...       ...   \n",
       "24995             50      2019/02/17          2000/06/17       300   \n",
       "24996             25      2019/12/26          2001/12/24        82   \n",
       "24997             60      2022/01/15          2005/04/06        42   \n",
       "24998             60      2022/04/03          2005/02/13        92   \n",
       "24999             65      2019/06/25          1993/09/14       242   \n",
       "\n",
       "       SalesValue  CostPerUnit  Profit  \n",
       "0           34290          128    1905  \n",
       "1            4560           48     720  \n",
       "2            4471           38     340  \n",
       "3           40014           77    2223  \n",
       "4           14904          128    1134  \n",
       "...           ...          ...     ...  \n",
       "24995       13500           40    1500  \n",
       "24996        1948           21     205  \n",
       "24997        2520           54     252  \n",
       "24998        5244           48     828  \n",
       "24999       14157           55     787  \n",
       "\n",
       "[25000 rows x 11 columns]"
      ]
     },
     "execution_count": 7,
     "metadata": {},
     "output_type": "execute_result"
    }
   ],
   "source": [
    "df"
   ]
  },
  {
   "cell_type": "code",
   "execution_count": 8,
   "id": "15b907e3",
   "metadata": {},
   "outputs": [
    {
     "name": "stdout",
     "output_type": "stream",
     "text": [
      "<class 'pandas.core.frame.DataFrame'>\n",
      "RangeIndex: 25000 entries, 0 to 24999\n",
      "Data columns (total 11 columns):\n",
      " #   Column               Non-Null Count  Dtype \n",
      "---  ------               --------------  ----- \n",
      " 0   Country              25000 non-null  object\n",
      " 1   Category             25000 non-null  object\n",
      " 2   Brand                25000 non-null  object\n",
      " 3   Product              25000 non-null  object\n",
      " 4   MRP_UnitPrice        25000 non-null  int64 \n",
      " 5   TransactionDate      25000 non-null  object\n",
      " 6   Product_Launch_Date  25000 non-null  object\n",
      " 7   OrderQty             25000 non-null  int64 \n",
      " 8   SalesValue           25000 non-null  int64 \n",
      " 9   CostPerUnit          25000 non-null  int64 \n",
      " 10  Profit               25000 non-null  int64 \n",
      "dtypes: int64(5), object(6)\n",
      "memory usage: 2.1+ MB\n"
     ]
    }
   ],
   "source": [
    "df.info()"
   ]
  },
  {
   "cell_type": "code",
   "execution_count": 9,
   "id": "a1e096a7",
   "metadata": {},
   "outputs": [
    {
     "name": "stderr",
     "output_type": "stream",
     "text": [
      "C:\\Users\\Hammad\\AppData\\Local\\Temp\\ipykernel_7336\\2594550063.py:1: SettingWithCopyWarning: \n",
      "A value is trying to be set on a copy of a slice from a DataFrame.\n",
      "Try using .loc[row_indexer,col_indexer] = value instead\n",
      "\n",
      "See the caveats in the documentation: https://pandas.pydata.org/pandas-docs/stable/user_guide/indexing.html#returning-a-view-versus-a-copy\n",
      "  df['Product_Launch_Date'] = pd.to_datetime(df['Product_Launch_Date'])\n"
     ]
    }
   ],
   "source": [
    "df['Product_Launch_Date'] = pd.to_datetime(df['Product_Launch_Date'])"
   ]
  },
  {
   "cell_type": "code",
   "execution_count": 10,
   "id": "36f5f55e",
   "metadata": {},
   "outputs": [
    {
     "name": "stderr",
     "output_type": "stream",
     "text": [
      "C:\\Users\\Hammad\\AppData\\Local\\Temp\\ipykernel_7336\\2178940998.py:1: SettingWithCopyWarning: \n",
      "A value is trying to be set on a copy of a slice from a DataFrame.\n",
      "Try using .loc[row_indexer,col_indexer] = value instead\n",
      "\n",
      "See the caveats in the documentation: https://pandas.pydata.org/pandas-docs/stable/user_guide/indexing.html#returning-a-view-versus-a-copy\n",
      "  df['TransactionDate'] = pd.to_datetime(df[\"TransactionDate\"])\n"
     ]
    }
   ],
   "source": [
    "df['TransactionDate'] = pd.to_datetime(df[\"TransactionDate\"])"
   ]
  },
  {
   "cell_type": "code",
   "execution_count": 11,
   "id": "36e4d34c",
   "metadata": {},
   "outputs": [
    {
     "data": {
      "text/plain": [
       "array(['Limca', 'Coca_Cola', 'Minute Maid', 'RimZim', 'Sprite', 'Fanta',\n",
       "       'Costa Coffee', 'Kinley Soda', 'Charged by Thums Up', 'Thums Up',\n",
       "       'Maaza', 'Schweppes', 'Honest Tea', 'Georgia', 'Kinley',\n",
       "       'Smartwater'], dtype=object)"
      ]
     },
     "execution_count": 11,
     "metadata": {},
     "output_type": "execute_result"
    }
   ],
   "source": [
    "df[\"Brand\"].unique()"
   ]
  },
  {
   "cell_type": "code",
   "execution_count": 12,
   "id": "3b91905b",
   "metadata": {},
   "outputs": [
    {
     "name": "stderr",
     "output_type": "stream",
     "text": [
      "C:\\Users\\Hammad\\AppData\\Local\\Temp\\ipykernel_7336\\1666999608.py:1: SettingWithCopyWarning: \n",
      "A value is trying to be set on a copy of a slice from a DataFrame.\n",
      "Try using .loc[row_indexer,col_indexer] = value instead\n",
      "\n",
      "See the caveats in the documentation: https://pandas.pydata.org/pandas-docs/stable/user_guide/indexing.html#returning-a-view-versus-a-copy\n",
      "  df[\"Brand\"] = df[\"Brand\"].str.replace(\"_\",\" \")\n"
     ]
    }
   ],
   "source": [
    "df[\"Brand\"] = df[\"Brand\"].str.replace(\"_\",\" \")"
   ]
  },
  {
   "cell_type": "code",
   "execution_count": 13,
   "id": "37237e62",
   "metadata": {},
   "outputs": [
    {
     "name": "stdout",
     "output_type": "stream",
     "text": [
      "<class 'pandas.core.frame.DataFrame'>\n",
      "RangeIndex: 25000 entries, 0 to 24999\n",
      "Data columns (total 11 columns):\n",
      " #   Column               Non-Null Count  Dtype         \n",
      "---  ------               --------------  -----         \n",
      " 0   Country              25000 non-null  object        \n",
      " 1   Category             25000 non-null  object        \n",
      " 2   Brand                25000 non-null  object        \n",
      " 3   Product              25000 non-null  object        \n",
      " 4   MRP_UnitPrice        25000 non-null  int64         \n",
      " 5   TransactionDate      25000 non-null  datetime64[ns]\n",
      " 6   Product_Launch_Date  25000 non-null  datetime64[ns]\n",
      " 7   OrderQty             25000 non-null  int64         \n",
      " 8   SalesValue           25000 non-null  int64         \n",
      " 9   CostPerUnit          25000 non-null  int64         \n",
      " 10  Profit               25000 non-null  int64         \n",
      "dtypes: datetime64[ns](2), int64(5), object(4)\n",
      "memory usage: 2.1+ MB\n"
     ]
    }
   ],
   "source": [
    "df.info()"
   ]
  },
  {
   "cell_type": "markdown",
   "id": "fea8cd44",
   "metadata": {},
   "source": [
    "### `General Analysis for Sales: Identifying Sales Trends Across five years`"
   ]
  },
  {
   "cell_type": "code",
   "execution_count": 14,
   "id": "7f47dbf9",
   "metadata": {},
   "outputs": [
    {
     "data": {
      "text/html": [
       "<div>\n",
       "<style scoped>\n",
       "    .dataframe tbody tr th:only-of-type {\n",
       "        vertical-align: middle;\n",
       "    }\n",
       "\n",
       "    .dataframe tbody tr th {\n",
       "        vertical-align: top;\n",
       "    }\n",
       "\n",
       "    .dataframe thead th {\n",
       "        text-align: right;\n",
       "    }\n",
       "</style>\n",
       "<table border=\"1\" class=\"dataframe\">\n",
       "  <thead>\n",
       "    <tr style=\"text-align: right;\">\n",
       "      <th></th>\n",
       "      <th>Country</th>\n",
       "      <th>Category</th>\n",
       "      <th>Brand</th>\n",
       "      <th>Product</th>\n",
       "      <th>MRP_UnitPrice</th>\n",
       "      <th>TransactionDate</th>\n",
       "      <th>Product_Launch_Date</th>\n",
       "      <th>OrderQty</th>\n",
       "      <th>SalesValue</th>\n",
       "      <th>CostPerUnit</th>\n",
       "      <th>Profit</th>\n",
       "    </tr>\n",
       "  </thead>\n",
       "  <tbody>\n",
       "    <tr>\n",
       "      <th>0</th>\n",
       "      <td>New Zealand</td>\n",
       "      <td>Cold Bewerages</td>\n",
       "      <td>Limca</td>\n",
       "      <td>Limca</td>\n",
       "      <td>150</td>\n",
       "      <td>2020-08-26</td>\n",
       "      <td>2016-03-17</td>\n",
       "      <td>254</td>\n",
       "      <td>34290</td>\n",
       "      <td>128</td>\n",
       "      <td>1905</td>\n",
       "    </tr>\n",
       "    <tr>\n",
       "      <th>1</th>\n",
       "      <td>Thailand</td>\n",
       "      <td>Cold Bewerages</td>\n",
       "      <td>Coca Cola</td>\n",
       "      <td>Coca_Cola Zero Sugar</td>\n",
       "      <td>60</td>\n",
       "      <td>2021-06-09</td>\n",
       "      <td>2000-03-25</td>\n",
       "      <td>80</td>\n",
       "      <td>4560</td>\n",
       "      <td>48</td>\n",
       "      <td>720</td>\n",
       "    </tr>\n",
       "    <tr>\n",
       "      <th>2</th>\n",
       "      <td>Vietnam</td>\n",
       "      <td>Cold Bewerages</td>\n",
       "      <td>Minute Maid</td>\n",
       "      <td>Pulpy Orange</td>\n",
       "      <td>45</td>\n",
       "      <td>2020-06-14</td>\n",
       "      <td>1993-09-21</td>\n",
       "      <td>108</td>\n",
       "      <td>4471</td>\n",
       "      <td>38</td>\n",
       "      <td>340</td>\n",
       "    </tr>\n",
       "    <tr>\n",
       "      <th>3</th>\n",
       "      <td>Brunei</td>\n",
       "      <td>Cold Bewerages</td>\n",
       "      <td>Coca Cola</td>\n",
       "      <td>Coca_Cola</td>\n",
       "      <td>90</td>\n",
       "      <td>2019-08-03</td>\n",
       "      <td>2014-07-04</td>\n",
       "      <td>494</td>\n",
       "      <td>40014</td>\n",
       "      <td>77</td>\n",
       "      <td>2223</td>\n",
       "    </tr>\n",
       "    <tr>\n",
       "      <th>4</th>\n",
       "      <td>Indonesia</td>\n",
       "      <td>Cold Bewerages</td>\n",
       "      <td>RimZim</td>\n",
       "      <td>RimZim</td>\n",
       "      <td>150</td>\n",
       "      <td>2022-12-02</td>\n",
       "      <td>1991-06-15</td>\n",
       "      <td>108</td>\n",
       "      <td>14904</td>\n",
       "      <td>128</td>\n",
       "      <td>1134</td>\n",
       "    </tr>\n",
       "  </tbody>\n",
       "</table>\n",
       "</div>"
      ],
      "text/plain": [
       "         Country        Category        Brand               Product  \\\n",
       "0   New Zealand   Cold Bewerages        Limca                 Limca   \n",
       "1   Thailand      Cold Bewerages    Coca Cola  Coca_Cola Zero Sugar   \n",
       "2   Vietnam       Cold Bewerages  Minute Maid          Pulpy Orange   \n",
       "3   Brunei        Cold Bewerages    Coca Cola             Coca_Cola   \n",
       "4   Indonesia     Cold Bewerages       RimZim                RimZim   \n",
       "\n",
       "   MRP_UnitPrice TransactionDate Product_Launch_Date  OrderQty  SalesValue  \\\n",
       "0            150      2020-08-26          2016-03-17       254       34290   \n",
       "1             60      2021-06-09          2000-03-25        80        4560   \n",
       "2             45      2020-06-14          1993-09-21       108        4471   \n",
       "3             90      2019-08-03          2014-07-04       494       40014   \n",
       "4            150      2022-12-02          1991-06-15       108       14904   \n",
       "\n",
       "   CostPerUnit  Profit  \n",
       "0          128    1905  \n",
       "1           48     720  \n",
       "2           38     340  \n",
       "3           77    2223  \n",
       "4          128    1134  "
      ]
     },
     "execution_count": 14,
     "metadata": {},
     "output_type": "execute_result"
    }
   ],
   "source": [
    "df.head()"
   ]
  },
  {
   "cell_type": "code",
   "execution_count": 15,
   "id": "344f271b",
   "metadata": {},
   "outputs": [],
   "source": [
    "yearly_data = df.groupby(df[\"TransactionDate\"].dt.year).sum()"
   ]
  },
  {
   "cell_type": "code",
   "execution_count": 16,
   "id": "b2a090fd",
   "metadata": {},
   "outputs": [
    {
     "data": {
      "text/html": [
       "<div>\n",
       "<style scoped>\n",
       "    .dataframe tbody tr th:only-of-type {\n",
       "        vertical-align: middle;\n",
       "    }\n",
       "\n",
       "    .dataframe tbody tr th {\n",
       "        vertical-align: top;\n",
       "    }\n",
       "\n",
       "    .dataframe thead th {\n",
       "        text-align: right;\n",
       "    }\n",
       "</style>\n",
       "<table border=\"1\" class=\"dataframe\">\n",
       "  <thead>\n",
       "    <tr style=\"text-align: right;\">\n",
       "      <th></th>\n",
       "      <th>MRP_UnitPrice</th>\n",
       "      <th>OrderQty</th>\n",
       "      <th>SalesValue</th>\n",
       "      <th>CostPerUnit</th>\n",
       "      <th>Profit</th>\n",
       "    </tr>\n",
       "    <tr>\n",
       "      <th>TransactionDate</th>\n",
       "      <th></th>\n",
       "      <th></th>\n",
       "      <th></th>\n",
       "      <th></th>\n",
       "      <th></th>\n",
       "    </tr>\n",
       "  </thead>\n",
       "  <tbody>\n",
       "    <tr>\n",
       "      <th>2019</th>\n",
       "      <td>394075</td>\n",
       "      <td>1570332</td>\n",
       "      <td>90525808</td>\n",
       "      <td>332851</td>\n",
       "      <td>6226772</td>\n",
       "    </tr>\n",
       "    <tr>\n",
       "      <th>2020</th>\n",
       "      <td>402550</td>\n",
       "      <td>1558490</td>\n",
       "      <td>91669876</td>\n",
       "      <td>339802</td>\n",
       "      <td>6350714</td>\n",
       "    </tr>\n",
       "    <tr>\n",
       "      <th>2021</th>\n",
       "      <td>397795</td>\n",
       "      <td>1539316</td>\n",
       "      <td>89851914</td>\n",
       "      <td>336091</td>\n",
       "      <td>6170513</td>\n",
       "    </tr>\n",
       "    <tr>\n",
       "      <th>2022</th>\n",
       "      <td>384430</td>\n",
       "      <td>1511342</td>\n",
       "      <td>87027298</td>\n",
       "      <td>324905</td>\n",
       "      <td>5978909</td>\n",
       "    </tr>\n",
       "    <tr>\n",
       "      <th>2023</th>\n",
       "      <td>31395</td>\n",
       "      <td>132782</td>\n",
       "      <td>7335003</td>\n",
       "      <td>26498</td>\n",
       "      <td>504439</td>\n",
       "    </tr>\n",
       "  </tbody>\n",
       "</table>\n",
       "</div>"
      ],
      "text/plain": [
       "                 MRP_UnitPrice  OrderQty  SalesValue  CostPerUnit   Profit\n",
       "TransactionDate                                                           \n",
       "2019                    394075   1570332    90525808       332851  6226772\n",
       "2020                    402550   1558490    91669876       339802  6350714\n",
       "2021                    397795   1539316    89851914       336091  6170513\n",
       "2022                    384430   1511342    87027298       324905  5978909\n",
       "2023                     31395    132782     7335003        26498   504439"
      ]
     },
     "execution_count": 16,
     "metadata": {},
     "output_type": "execute_result"
    }
   ],
   "source": [
    "yearly_data"
   ]
  },
  {
   "cell_type": "code",
   "execution_count": 17,
   "id": "57583417",
   "metadata": {},
   "outputs": [
    {
     "data": {
      "text/plain": [
       "366409899"
      ]
     },
     "execution_count": 17,
     "metadata": {},
     "output_type": "execute_result"
    }
   ],
   "source": [
    "yearly_data[\"SalesValue\"].sum()"
   ]
  },
  {
   "cell_type": "code",
   "execution_count": 18,
   "id": "8e3098d5",
   "metadata": {},
   "outputs": [],
   "source": [
    "yearly_data.reset_index(inplace=True)"
   ]
  },
  {
   "cell_type": "code",
   "execution_count": 19,
   "id": "f4de864a",
   "metadata": {},
   "outputs": [],
   "source": [
    "yearly_data.rename(columns={\"TransactionDate\":\"Year\"},inplace=True)"
   ]
  },
  {
   "cell_type": "code",
   "execution_count": 20,
   "id": "cf6769c9",
   "metadata": {},
   "outputs": [],
   "source": [
    "yearly_data = yearly_data[yearly_data['Year']>2013]"
   ]
  },
  {
   "cell_type": "code",
   "execution_count": 21,
   "id": "34caf37f",
   "metadata": {},
   "outputs": [
    {
     "data": {
      "text/plain": [
       "91669876"
      ]
     },
     "execution_count": 21,
     "metadata": {},
     "output_type": "execute_result"
    }
   ],
   "source": [
    "yearly_data[\"SalesValue\"].max()"
   ]
  },
  {
   "cell_type": "code",
   "execution_count": 22,
   "id": "6429daac",
   "metadata": {},
   "outputs": [],
   "source": [
    "def alphanumeric_units(num):\n",
    "    if num >= 1e9:\n",
    "        return f'{num/1e9:.0f}B' # \":.0f\" means zero fraction values\n",
    "    elif num >= 1e6:\n",
    "        return f'{num/1e6:.0f}M'\n",
    "    elif num >= 1e3:\n",
    "        return f'{num/1e3:.0f}k'\n",
    "    else:\n",
    "        return f'{num:0f}'"
   ]
  },
  {
   "cell_type": "code",
   "execution_count": 23,
   "id": "622bab0a",
   "metadata": {},
   "outputs": [
    {
     "data": {
      "text/plain": [
       "91669876"
      ]
     },
     "execution_count": 23,
     "metadata": {},
     "output_type": "execute_result"
    }
   ],
   "source": [
    "yearly_data[\"SalesValue\"].max()"
   ]
  },
  {
   "cell_type": "code",
   "execution_count": 24,
   "id": "2212371d",
   "metadata": {},
   "outputs": [
    {
     "data": {
      "text/html": [
       "<div>\n",
       "<style scoped>\n",
       "    .dataframe tbody tr th:only-of-type {\n",
       "        vertical-align: middle;\n",
       "    }\n",
       "\n",
       "    .dataframe tbody tr th {\n",
       "        vertical-align: top;\n",
       "    }\n",
       "\n",
       "    .dataframe thead th {\n",
       "        text-align: right;\n",
       "    }\n",
       "</style>\n",
       "<table border=\"1\" class=\"dataframe\">\n",
       "  <thead>\n",
       "    <tr style=\"text-align: right;\">\n",
       "      <th></th>\n",
       "      <th>Year</th>\n",
       "      <th>MRP_UnitPrice</th>\n",
       "      <th>OrderQty</th>\n",
       "      <th>SalesValue</th>\n",
       "      <th>CostPerUnit</th>\n",
       "      <th>Profit</th>\n",
       "    </tr>\n",
       "  </thead>\n",
       "  <tbody>\n",
       "    <tr>\n",
       "      <th>0</th>\n",
       "      <td>2019</td>\n",
       "      <td>394075</td>\n",
       "      <td>1570332</td>\n",
       "      <td>90525808</td>\n",
       "      <td>332851</td>\n",
       "      <td>6226772</td>\n",
       "    </tr>\n",
       "    <tr>\n",
       "      <th>1</th>\n",
       "      <td>2020</td>\n",
       "      <td>402550</td>\n",
       "      <td>1558490</td>\n",
       "      <td>91669876</td>\n",
       "      <td>339802</td>\n",
       "      <td>6350714</td>\n",
       "    </tr>\n",
       "    <tr>\n",
       "      <th>2</th>\n",
       "      <td>2021</td>\n",
       "      <td>397795</td>\n",
       "      <td>1539316</td>\n",
       "      <td>89851914</td>\n",
       "      <td>336091</td>\n",
       "      <td>6170513</td>\n",
       "    </tr>\n",
       "    <tr>\n",
       "      <th>3</th>\n",
       "      <td>2022</td>\n",
       "      <td>384430</td>\n",
       "      <td>1511342</td>\n",
       "      <td>87027298</td>\n",
       "      <td>324905</td>\n",
       "      <td>5978909</td>\n",
       "    </tr>\n",
       "    <tr>\n",
       "      <th>4</th>\n",
       "      <td>2023</td>\n",
       "      <td>31395</td>\n",
       "      <td>132782</td>\n",
       "      <td>7335003</td>\n",
       "      <td>26498</td>\n",
       "      <td>504439</td>\n",
       "    </tr>\n",
       "  </tbody>\n",
       "</table>\n",
       "</div>"
      ],
      "text/plain": [
       "   Year  MRP_UnitPrice  OrderQty  SalesValue  CostPerUnit   Profit\n",
       "0  2019         394075   1570332    90525808       332851  6226772\n",
       "1  2020         402550   1558490    91669876       339802  6350714\n",
       "2  2021         397795   1539316    89851914       336091  6170513\n",
       "3  2022         384430   1511342    87027298       324905  5978909\n",
       "4  2023          31395    132782     7335003        26498   504439"
      ]
     },
     "execution_count": 24,
     "metadata": {},
     "output_type": "execute_result"
    }
   ],
   "source": [
    "yearly_data"
   ]
  },
  {
   "cell_type": "code",
   "execution_count": 70,
   "id": "484c611a",
   "metadata": {},
   "outputs": [
    {
     "data": {
      "image/png": "[encoded data removed]",
      "text/plain": [
       "<Figure size 1800x800 with 1 Axes>"
      ]
     },
     "metadata": {},
     "output_type": "display_data"
    }
   ],
   "source": [
    "plt.figure(figsize=(18,8))\n",
    "#Data\n",
    "Sales = yearly_data[\"SalesValue\"]\n",
    "Year = yearly_data[\"Year\"].values\n",
    "#Plotting\n",
    "bars = plt.bar(Year,Sales,color=\"skyblue\",alpha=0.75,edgecolor=\"black\",linewidth=1.5,width=0.4)\n",
    "plt.xticks(rotation=45,fontsize=17)\n",
    "plt.yticks(fontsize=12)\n",
    "plt.grid(axis='y',linestyle='--',alpha=0.7)#issue with grid\n",
    "plt.yticks(range(0,2500,500),[],fontsize=18)\n",
    "plt.tick_params(left=0,bottom=0)\n",
    "#max sales\n",
    "max_sale=Sales.max()\n",
    "#highlighting the bars\n",
    "max_sale_index=list(Sales).index(max_sale)\n",
    "bars[max_sale_index].set_color(\"Salmon\")\n",
    "bars[max_sale_index].set_edgecolor(\"black\")\n",
    "#adding data labels\n",
    "for bar, sales_value in zip(bars, Sales):\n",
    "    height = bar.get_height()\n",
    "    sales_text = alphanumeric_units(sales_value)  # Apply alphanumeric_units() function\n",
    "    plt.text(bar.get_x() + bar.get_width() / 2, height + 20, sales_text,\n",
    "             ha=\"center\", va=\"bottom\", fontsize=16)\n",
    "\n",
    "#adding bg color\n",
    "ax=plt.gca()\n",
    "ax.set_facecolor('#f7f7f7')\n",
    "#adding title\n",
    "plt.text(0.5,1.1,\"Sales In Past 5 Years In Beverage Industry\",ha=\"center\",fontsize=24,transform=plt.gca().transAxes,\n",
    "         color='grey',weight='bold')\n",
    "#removing spines\n",
    "for i in [\"top\",\"right\",\"left\"]:\n",
    "    plt.gca().spines[i].set_visible(False)\n",
    "plt.tight_layout()\n",
    "plt.show()"
   ]
  },
  {
   "cell_type": "markdown",
   "id": "8b1f03cf",
   "metadata": {},
   "source": [
    "#### `Results`\n",
    "Over the five-year period (2019-2023), beverage sales demonstrated a fluctuating trend. Sales values peaked at approximately 91.05M in 2020 before gradually declining to around 7.34M in 2023. Unit prices varied, reaching a high of approximately 402.55k in 2020 and dropping to about 31.40k in 2023. Despite fluctuations, order quantities and profits remained relatively stable throughout the period. Further analysis is warranted to understand underlying factors and inform strategic decisions."
   ]
  },
  {
   "cell_type": "markdown",
   "id": "c970aa62",
   "metadata": {},
   "source": [
    "### `Top 10 counteries by Sales`\n"
   ]
  },
  {
   "cell_type": "code",
   "execution_count": 26,
   "id": "16067b24",
   "metadata": {},
   "outputs": [
    {
     "data": {
      "text/html": [
       "<div>\n",
       "<style scoped>\n",
       "    .dataframe tbody tr th:only-of-type {\n",
       "        vertical-align: middle;\n",
       "    }\n",
       "\n",
       "    .dataframe tbody tr th {\n",
       "        vertical-align: top;\n",
       "    }\n",
       "\n",
       "    .dataframe thead th {\n",
       "        text-align: right;\n",
       "    }\n",
       "</style>\n",
       "<table border=\"1\" class=\"dataframe\">\n",
       "  <thead>\n",
       "    <tr style=\"text-align: right;\">\n",
       "      <th></th>\n",
       "      <th>Country</th>\n",
       "      <th>Category</th>\n",
       "      <th>Brand</th>\n",
       "      <th>Product</th>\n",
       "      <th>MRP_UnitPrice</th>\n",
       "      <th>TransactionDate</th>\n",
       "      <th>Product_Launch_Date</th>\n",
       "      <th>OrderQty</th>\n",
       "      <th>SalesValue</th>\n",
       "      <th>CostPerUnit</th>\n",
       "      <th>Profit</th>\n",
       "    </tr>\n",
       "  </thead>\n",
       "  <tbody>\n",
       "    <tr>\n",
       "      <th>0</th>\n",
       "      <td>New Zealand</td>\n",
       "      <td>Cold Bewerages</td>\n",
       "      <td>Limca</td>\n",
       "      <td>Limca</td>\n",
       "      <td>150</td>\n",
       "      <td>2020-08-26</td>\n",
       "      <td>2016-03-17</td>\n",
       "      <td>254</td>\n",
       "      <td>34290</td>\n",
       "      <td>128</td>\n",
       "      <td>1905</td>\n",
       "    </tr>\n",
       "    <tr>\n",
       "      <th>1</th>\n",
       "      <td>Thailand</td>\n",
       "      <td>Cold Bewerages</td>\n",
       "      <td>Coca Cola</td>\n",
       "      <td>Coca_Cola Zero Sugar</td>\n",
       "      <td>60</td>\n",
       "      <td>2021-06-09</td>\n",
       "      <td>2000-03-25</td>\n",
       "      <td>80</td>\n",
       "      <td>4560</td>\n",
       "      <td>48</td>\n",
       "      <td>720</td>\n",
       "    </tr>\n",
       "    <tr>\n",
       "      <th>2</th>\n",
       "      <td>Vietnam</td>\n",
       "      <td>Cold Bewerages</td>\n",
       "      <td>Minute Maid</td>\n",
       "      <td>Pulpy Orange</td>\n",
       "      <td>45</td>\n",
       "      <td>2020-06-14</td>\n",
       "      <td>1993-09-21</td>\n",
       "      <td>108</td>\n",
       "      <td>4471</td>\n",
       "      <td>38</td>\n",
       "      <td>340</td>\n",
       "    </tr>\n",
       "    <tr>\n",
       "      <th>3</th>\n",
       "      <td>Brunei</td>\n",
       "      <td>Cold Bewerages</td>\n",
       "      <td>Coca Cola</td>\n",
       "      <td>Coca_Cola</td>\n",
       "      <td>90</td>\n",
       "      <td>2019-08-03</td>\n",
       "      <td>2014-07-04</td>\n",
       "      <td>494</td>\n",
       "      <td>40014</td>\n",
       "      <td>77</td>\n",
       "      <td>2223</td>\n",
       "    </tr>\n",
       "    <tr>\n",
       "      <th>4</th>\n",
       "      <td>Indonesia</td>\n",
       "      <td>Cold Bewerages</td>\n",
       "      <td>RimZim</td>\n",
       "      <td>RimZim</td>\n",
       "      <td>150</td>\n",
       "      <td>2022-12-02</td>\n",
       "      <td>1991-06-15</td>\n",
       "      <td>108</td>\n",
       "      <td>14904</td>\n",
       "      <td>128</td>\n",
       "      <td>1134</td>\n",
       "    </tr>\n",
       "  </tbody>\n",
       "</table>\n",
       "</div>"
      ],
      "text/plain": [
       "         Country        Category        Brand               Product  \\\n",
       "0   New Zealand   Cold Bewerages        Limca                 Limca   \n",
       "1   Thailand      Cold Bewerages    Coca Cola  Coca_Cola Zero Sugar   \n",
       "2   Vietnam       Cold Bewerages  Minute Maid          Pulpy Orange   \n",
       "3   Brunei        Cold Bewerages    Coca Cola             Coca_Cola   \n",
       "4   Indonesia     Cold Bewerages       RimZim                RimZim   \n",
       "\n",
       "   MRP_UnitPrice TransactionDate Product_Launch_Date  OrderQty  SalesValue  \\\n",
       "0            150      2020-08-26          2016-03-17       254       34290   \n",
       "1             60      2021-06-09          2000-03-25        80        4560   \n",
       "2             45      2020-06-14          1993-09-21       108        4471   \n",
       "3             90      2019-08-03          2014-07-04       494       40014   \n",
       "4            150      2022-12-02          1991-06-15       108       14904   \n",
       "\n",
       "   CostPerUnit  Profit  \n",
       "0          128    1905  \n",
       "1           48     720  \n",
       "2           38     340  \n",
       "3           77    2223  \n",
       "4          128    1134  "
      ]
     },
     "execution_count": 26,
     "metadata": {},
     "output_type": "execute_result"
    }
   ],
   "source": [
    "df.head()"
   ]
  },
  {
   "cell_type": "code",
   "execution_count": 27,
   "id": "4b5383ce",
   "metadata": {},
   "outputs": [
    {
     "data": {
      "text/plain": [
       "366409899"
      ]
     },
     "execution_count": 27,
     "metadata": {},
     "output_type": "execute_result"
    }
   ],
   "source": [
    "df[\"SalesValue\"].sum()"
   ]
  },
  {
   "cell_type": "code",
   "execution_count": 28,
   "id": "7c2ff70e",
   "metadata": {},
   "outputs": [
    {
     "data": {
      "text/plain": [
       "Country\n",
       "India            83971956\n",
       " Australia       28956153\n",
       " Philippines     28936590\n",
       " Brunei          28754511\n",
       " New Zealand     27896882\n",
       " Indonesia       27754741\n",
       " Vietnam         27733122\n",
       " Malaysia        27366670\n",
       " Thailand        22780626\n",
       " Singapore       21798987\n",
       "Name: SalesValue, dtype: int64"
      ]
     },
     "execution_count": 28,
     "metadata": {},
     "output_type": "execute_result"
    }
   ],
   "source": [
    "country_df = df.groupby(\"Country\")[\"SalesValue\"].sum().sort_values(ascending=False)[:10]\n",
    "country_df"
   ]
  },
  {
   "cell_type": "code",
   "execution_count": 29,
   "id": "76188ff1",
   "metadata": {},
   "outputs": [
    {
     "data": {
      "image/png": "[encoded data removed]",
      "text/plain": [
       "<Figure size 500x800 with 1 Axes>"
      ]
     },
     "metadata": {},
     "output_type": "display_data"
    }
   ],
   "source": [
    "plt.figure(figsize=(5,8)) \n",
    "plt.pie(country_df.values,labels=country_df.index,autopct=lambda country_sales_perc: f'{country_sales_perc:.0f}%',startangle=140, pctdistance=0.85, explode=(0.1, 0.1, 0.1, 0.1,0.1,0.1,0.1,0.1,0.1,0.1))\n",
    "plt.title(\"Sales Distribution by Country\",fontweight=\"bold\",alpha=0.7,va=\"center\",pad=20)\n",
    "plt.show()"
   ]
  },
  {
   "cell_type": "markdown",
   "id": "a7b9b7aa",
   "metadata": {},
   "source": [
    "### `Result`\n",
    "India leads beverage sales with a significant total of 83,971,956, indicating a strong market presence. Diverse regional representation and consistent performance across markets suggest expansion opportunities, particularly in emerging economies like Indonesia, Vietnam, and Thailand. To leverage this position effectively, conducting market research, tailoring strategies to local preferences, and investing in distribution networks are recommended."
   ]
  },
  {
   "cell_type": "markdown",
   "id": "50e9a098",
   "metadata": {},
   "source": [
    "### `Top 10 brands by Sale`\n"
   ]
  },
  {
   "cell_type": "code",
   "execution_count": 30,
   "id": "300d1c3e",
   "metadata": {},
   "outputs": [
    {
     "data": {
      "text/html": [
       "<div>\n",
       "<style scoped>\n",
       "    .dataframe tbody tr th:only-of-type {\n",
       "        vertical-align: middle;\n",
       "    }\n",
       "\n",
       "    .dataframe tbody tr th {\n",
       "        vertical-align: top;\n",
       "    }\n",
       "\n",
       "    .dataframe thead th {\n",
       "        text-align: right;\n",
       "    }\n",
       "</style>\n",
       "<table border=\"1\" class=\"dataframe\">\n",
       "  <thead>\n",
       "    <tr style=\"text-align: right;\">\n",
       "      <th></th>\n",
       "      <th>Country</th>\n",
       "      <th>Category</th>\n",
       "      <th>Brand</th>\n",
       "      <th>Product</th>\n",
       "      <th>MRP_UnitPrice</th>\n",
       "      <th>TransactionDate</th>\n",
       "      <th>Product_Launch_Date</th>\n",
       "      <th>OrderQty</th>\n",
       "      <th>SalesValue</th>\n",
       "      <th>CostPerUnit</th>\n",
       "      <th>Profit</th>\n",
       "    </tr>\n",
       "  </thead>\n",
       "  <tbody>\n",
       "    <tr>\n",
       "      <th>0</th>\n",
       "      <td>New Zealand</td>\n",
       "      <td>Cold Bewerages</td>\n",
       "      <td>Limca</td>\n",
       "      <td>Limca</td>\n",
       "      <td>150</td>\n",
       "      <td>2020-08-26</td>\n",
       "      <td>2016-03-17</td>\n",
       "      <td>254</td>\n",
       "      <td>34290</td>\n",
       "      <td>128</td>\n",
       "      <td>1905</td>\n",
       "    </tr>\n",
       "    <tr>\n",
       "      <th>1</th>\n",
       "      <td>Thailand</td>\n",
       "      <td>Cold Bewerages</td>\n",
       "      <td>Coca Cola</td>\n",
       "      <td>Coca_Cola Zero Sugar</td>\n",
       "      <td>60</td>\n",
       "      <td>2021-06-09</td>\n",
       "      <td>2000-03-25</td>\n",
       "      <td>80</td>\n",
       "      <td>4560</td>\n",
       "      <td>48</td>\n",
       "      <td>720</td>\n",
       "    </tr>\n",
       "    <tr>\n",
       "      <th>2</th>\n",
       "      <td>Vietnam</td>\n",
       "      <td>Cold Bewerages</td>\n",
       "      <td>Minute Maid</td>\n",
       "      <td>Pulpy Orange</td>\n",
       "      <td>45</td>\n",
       "      <td>2020-06-14</td>\n",
       "      <td>1993-09-21</td>\n",
       "      <td>108</td>\n",
       "      <td>4471</td>\n",
       "      <td>38</td>\n",
       "      <td>340</td>\n",
       "    </tr>\n",
       "    <tr>\n",
       "      <th>3</th>\n",
       "      <td>Brunei</td>\n",
       "      <td>Cold Bewerages</td>\n",
       "      <td>Coca Cola</td>\n",
       "      <td>Coca_Cola</td>\n",
       "      <td>90</td>\n",
       "      <td>2019-08-03</td>\n",
       "      <td>2014-07-04</td>\n",
       "      <td>494</td>\n",
       "      <td>40014</td>\n",
       "      <td>77</td>\n",
       "      <td>2223</td>\n",
       "    </tr>\n",
       "    <tr>\n",
       "      <th>4</th>\n",
       "      <td>Indonesia</td>\n",
       "      <td>Cold Bewerages</td>\n",
       "      <td>RimZim</td>\n",
       "      <td>RimZim</td>\n",
       "      <td>150</td>\n",
       "      <td>2022-12-02</td>\n",
       "      <td>1991-06-15</td>\n",
       "      <td>108</td>\n",
       "      <td>14904</td>\n",
       "      <td>128</td>\n",
       "      <td>1134</td>\n",
       "    </tr>\n",
       "  </tbody>\n",
       "</table>\n",
       "</div>"
      ],
      "text/plain": [
       "         Country        Category        Brand               Product  \\\n",
       "0   New Zealand   Cold Bewerages        Limca                 Limca   \n",
       "1   Thailand      Cold Bewerages    Coca Cola  Coca_Cola Zero Sugar   \n",
       "2   Vietnam       Cold Bewerages  Minute Maid          Pulpy Orange   \n",
       "3   Brunei        Cold Bewerages    Coca Cola             Coca_Cola   \n",
       "4   Indonesia     Cold Bewerages       RimZim                RimZim   \n",
       "\n",
       "   MRP_UnitPrice TransactionDate Product_Launch_Date  OrderQty  SalesValue  \\\n",
       "0            150      2020-08-26          2016-03-17       254       34290   \n",
       "1             60      2021-06-09          2000-03-25        80        4560   \n",
       "2             45      2020-06-14          1993-09-21       108        4471   \n",
       "3             90      2019-08-03          2014-07-04       494       40014   \n",
       "4            150      2022-12-02          1991-06-15       108       14904   \n",
       "\n",
       "   CostPerUnit  Profit  \n",
       "0          128    1905  \n",
       "1           48     720  \n",
       "2           38     340  \n",
       "3           77    2223  \n",
       "4          128    1134  "
      ]
     },
     "execution_count": 30,
     "metadata": {},
     "output_type": "execute_result"
    }
   ],
   "source": [
    "df.head()"
   ]
  },
  {
   "cell_type": "code",
   "execution_count": 31,
   "id": "534a6937",
   "metadata": {},
   "outputs": [
    {
     "data": {
      "text/plain": [
       "Brand\n",
       "Coca Cola       48527482\n",
       "Georgia         38211962\n",
       "Fanta           37241956\n",
       "Limca           33822917\n",
       "Sprite          32497449\n",
       "RimZim          27559545\n",
       "Costa Coffee    27098336\n",
       "Kinley          25212764\n",
       "Maaza           24554173\n",
       "Minute Maid     22902910\n",
       "Name: SalesValue, dtype: int64"
      ]
     },
     "execution_count": 31,
     "metadata": {},
     "output_type": "execute_result"
    }
   ],
   "source": [
    "brands = df.groupby(\"Brand\")['SalesValue'].sum().sort_values(ascending=False)[:10]\n",
    "brands"
   ]
  },
  {
   "cell_type": "code",
   "execution_count": 32,
   "id": "f8f3ce20",
   "metadata": {},
   "outputs": [
    {
     "data": {
      "image/png": "[encoded data removed]",
      "text/plain": [
       "<Figure size 500x800 with 1 Axes>"
      ]
     },
     "metadata": {},
     "output_type": "display_data"
    }
   ],
   "source": [
    "plt.figure(figsize=(5,8)) \n",
    "plt.pie(brands.values,labels=brands.index,autopct='%1.0f%%',startangle=140, pctdistance=0.85, explode=(0.1, 0.1, 0.1, 0.1,0.1,0.1,0.1,0.1,0.1,0.1))\n",
    "plt.title(\"Sales Distribution by Brands\",fontweight=\"bold\",alpha=0.7,va=\"center\",pad=20)\n",
    "plt.show()"
   ]
  },
  {
   "cell_type": "markdown",
   "id": "c55d0c90",
   "metadata": {},
   "source": [
    "### `Results`\n",
    "Coca Cola leads the beverage industry with sales of 48,527,482, showcasing its market dominance. The diverse range of top 10 brands, including carbonated soft drinks, fruit-based drinks, and coffee, reflects the industry's adaptability to consumer preferences. To capitalize on this diversity, companies can focus on product innovation, market expansion, strategic partnerships, brand building, and sustainability initiatives to drive growth and maintain competitiveness."
   ]
  },
  {
   "cell_type": "markdown",
   "id": "d1c58111",
   "metadata": {},
   "source": [
    "### `Product Analysis On India`"
   ]
  },
  {
   "cell_type": "code",
   "execution_count": 33,
   "id": "2013dc96",
   "metadata": {},
   "outputs": [
    {
     "data": {
      "text/html": [
       "<div>\n",
       "<style scoped>\n",
       "    .dataframe tbody tr th:only-of-type {\n",
       "        vertical-align: middle;\n",
       "    }\n",
       "\n",
       "    .dataframe tbody tr th {\n",
       "        vertical-align: top;\n",
       "    }\n",
       "\n",
       "    .dataframe thead th {\n",
       "        text-align: right;\n",
       "    }\n",
       "</style>\n",
       "<table border=\"1\" class=\"dataframe\">\n",
       "  <thead>\n",
       "    <tr style=\"text-align: right;\">\n",
       "      <th></th>\n",
       "      <th>Country</th>\n",
       "      <th>Category</th>\n",
       "      <th>Brand</th>\n",
       "      <th>Product</th>\n",
       "      <th>MRP_UnitPrice</th>\n",
       "      <th>TransactionDate</th>\n",
       "      <th>Product_Launch_Date</th>\n",
       "      <th>OrderQty</th>\n",
       "      <th>SalesValue</th>\n",
       "      <th>CostPerUnit</th>\n",
       "      <th>Profit</th>\n",
       "    </tr>\n",
       "  </thead>\n",
       "  <tbody>\n",
       "    <tr>\n",
       "      <th>0</th>\n",
       "      <td>New Zealand</td>\n",
       "      <td>Cold Bewerages</td>\n",
       "      <td>Limca</td>\n",
       "      <td>Limca</td>\n",
       "      <td>150</td>\n",
       "      <td>2020-08-26</td>\n",
       "      <td>2016-03-17</td>\n",
       "      <td>254</td>\n",
       "      <td>34290</td>\n",
       "      <td>128</td>\n",
       "      <td>1905</td>\n",
       "    </tr>\n",
       "    <tr>\n",
       "      <th>1</th>\n",
       "      <td>Thailand</td>\n",
       "      <td>Cold Bewerages</td>\n",
       "      <td>Coca Cola</td>\n",
       "      <td>Coca_Cola Zero Sugar</td>\n",
       "      <td>60</td>\n",
       "      <td>2021-06-09</td>\n",
       "      <td>2000-03-25</td>\n",
       "      <td>80</td>\n",
       "      <td>4560</td>\n",
       "      <td>48</td>\n",
       "      <td>720</td>\n",
       "    </tr>\n",
       "    <tr>\n",
       "      <th>2</th>\n",
       "      <td>Vietnam</td>\n",
       "      <td>Cold Bewerages</td>\n",
       "      <td>Minute Maid</td>\n",
       "      <td>Pulpy Orange</td>\n",
       "      <td>45</td>\n",
       "      <td>2020-06-14</td>\n",
       "      <td>1993-09-21</td>\n",
       "      <td>108</td>\n",
       "      <td>4471</td>\n",
       "      <td>38</td>\n",
       "      <td>340</td>\n",
       "    </tr>\n",
       "    <tr>\n",
       "      <th>3</th>\n",
       "      <td>Brunei</td>\n",
       "      <td>Cold Bewerages</td>\n",
       "      <td>Coca Cola</td>\n",
       "      <td>Coca_Cola</td>\n",
       "      <td>90</td>\n",
       "      <td>2019-08-03</td>\n",
       "      <td>2014-07-04</td>\n",
       "      <td>494</td>\n",
       "      <td>40014</td>\n",
       "      <td>77</td>\n",
       "      <td>2223</td>\n",
       "    </tr>\n",
       "    <tr>\n",
       "      <th>4</th>\n",
       "      <td>Indonesia</td>\n",
       "      <td>Cold Bewerages</td>\n",
       "      <td>RimZim</td>\n",
       "      <td>RimZim</td>\n",
       "      <td>150</td>\n",
       "      <td>2022-12-02</td>\n",
       "      <td>1991-06-15</td>\n",
       "      <td>108</td>\n",
       "      <td>14904</td>\n",
       "      <td>128</td>\n",
       "      <td>1134</td>\n",
       "    </tr>\n",
       "    <tr>\n",
       "      <th>...</th>\n",
       "      <td>...</td>\n",
       "      <td>...</td>\n",
       "      <td>...</td>\n",
       "      <td>...</td>\n",
       "      <td>...</td>\n",
       "      <td>...</td>\n",
       "      <td>...</td>\n",
       "      <td>...</td>\n",
       "      <td>...</td>\n",
       "      <td>...</td>\n",
       "      <td>...</td>\n",
       "    </tr>\n",
       "    <tr>\n",
       "      <th>24995</th>\n",
       "      <td>Myanmar</td>\n",
       "      <td>Cold Bewerages</td>\n",
       "      <td>Coca Cola</td>\n",
       "      <td>Coca_Cola</td>\n",
       "      <td>50</td>\n",
       "      <td>2019-02-17</td>\n",
       "      <td>2000-06-17</td>\n",
       "      <td>300</td>\n",
       "      <td>13500</td>\n",
       "      <td>40</td>\n",
       "      <td>1500</td>\n",
       "    </tr>\n",
       "    <tr>\n",
       "      <th>24996</th>\n",
       "      <td>Myanmar</td>\n",
       "      <td>Cold Bewerages</td>\n",
       "      <td>Maaza</td>\n",
       "      <td>Maaza Original</td>\n",
       "      <td>25</td>\n",
       "      <td>2019-12-26</td>\n",
       "      <td>2001-12-24</td>\n",
       "      <td>82</td>\n",
       "      <td>1948</td>\n",
       "      <td>21</td>\n",
       "      <td>205</td>\n",
       "    </tr>\n",
       "    <tr>\n",
       "      <th>24997</th>\n",
       "      <td>Brunei</td>\n",
       "      <td>Cold Bewerages</td>\n",
       "      <td>Kinley</td>\n",
       "      <td>Kinley</td>\n",
       "      <td>60</td>\n",
       "      <td>2022-01-15</td>\n",
       "      <td>2005-04-06</td>\n",
       "      <td>42</td>\n",
       "      <td>2520</td>\n",
       "      <td>54</td>\n",
       "      <td>252</td>\n",
       "    </tr>\n",
       "    <tr>\n",
       "      <th>24998</th>\n",
       "      <td>Singapore</td>\n",
       "      <td>Cold Bewerages</td>\n",
       "      <td>Kinley Soda</td>\n",
       "      <td>Kinley Soda</td>\n",
       "      <td>60</td>\n",
       "      <td>2022-04-03</td>\n",
       "      <td>2005-02-13</td>\n",
       "      <td>92</td>\n",
       "      <td>5244</td>\n",
       "      <td>48</td>\n",
       "      <td>828</td>\n",
       "    </tr>\n",
       "    <tr>\n",
       "      <th>24999</th>\n",
       "      <td>Vietnam</td>\n",
       "      <td>Cold Bewerages</td>\n",
       "      <td>Minute Maid</td>\n",
       "      <td>Pulpy Orange</td>\n",
       "      <td>65</td>\n",
       "      <td>2019-06-25</td>\n",
       "      <td>1993-09-14</td>\n",
       "      <td>242</td>\n",
       "      <td>14157</td>\n",
       "      <td>55</td>\n",
       "      <td>787</td>\n",
       "    </tr>\n",
       "  </tbody>\n",
       "</table>\n",
       "<p>25000 rows × 11 columns</p>\n",
       "</div>"
      ],
      "text/plain": [
       "             Country        Category        Brand               Product  \\\n",
       "0       New Zealand   Cold Bewerages        Limca                 Limca   \n",
       "1       Thailand      Cold Bewerages    Coca Cola  Coca_Cola Zero Sugar   \n",
       "2       Vietnam       Cold Bewerages  Minute Maid          Pulpy Orange   \n",
       "3       Brunei        Cold Bewerages    Coca Cola             Coca_Cola   \n",
       "4       Indonesia     Cold Bewerages       RimZim                RimZim   \n",
       "...              ...             ...          ...                   ...   \n",
       "24995   Myanmar       Cold Bewerages    Coca Cola             Coca_Cola   \n",
       "24996   Myanmar       Cold Bewerages        Maaza        Maaza Original   \n",
       "24997   Brunei        Cold Bewerages       Kinley                Kinley   \n",
       "24998   Singapore     Cold Bewerages  Kinley Soda           Kinley Soda   \n",
       "24999   Vietnam       Cold Bewerages  Minute Maid          Pulpy Orange   \n",
       "\n",
       "       MRP_UnitPrice TransactionDate Product_Launch_Date  OrderQty  \\\n",
       "0                150      2020-08-26          2016-03-17       254   \n",
       "1                 60      2021-06-09          2000-03-25        80   \n",
       "2                 45      2020-06-14          1993-09-21       108   \n",
       "3                 90      2019-08-03          2014-07-04       494   \n",
       "4                150      2022-12-02          1991-06-15       108   \n",
       "...              ...             ...                 ...       ...   \n",
       "24995             50      2019-02-17          2000-06-17       300   \n",
       "24996             25      2019-12-26          2001-12-24        82   \n",
       "24997             60      2022-01-15          2005-04-06        42   \n",
       "24998             60      2022-04-03          2005-02-13        92   \n",
       "24999             65      2019-06-25          1993-09-14       242   \n",
       "\n",
       "       SalesValue  CostPerUnit  Profit  \n",
       "0           34290          128    1905  \n",
       "1            4560           48     720  \n",
       "2            4471           38     340  \n",
       "3           40014           77    2223  \n",
       "4           14904          128    1134  \n",
       "...           ...          ...     ...  \n",
       "24995       13500           40    1500  \n",
       "24996        1948           21     205  \n",
       "24997        2520           54     252  \n",
       "24998        5244           48     828  \n",
       "24999       14157           55     787  \n",
       "\n",
       "[25000 rows x 11 columns]"
      ]
     },
     "execution_count": 33,
     "metadata": {},
     "output_type": "execute_result"
    }
   ],
   "source": [
    "df"
   ]
  },
  {
   "cell_type": "code",
   "execution_count": 34,
   "id": "1e71481f",
   "metadata": {},
   "outputs": [
    {
     "data": {
      "text/plain": [
       "array([' New Zealand ', ' Thailand    ', ' Vietnam     ', ' Brunei      ',\n",
       "       ' Indonesia   ', ' Australia   ', 'India', ' Singapore   ',\n",
       "       ' Myanmar     ', ' Philippines ', ' Malaysia    ', ' Cambodia    ',\n",
       "       ' Laos        ', ' Myanmar   '], dtype=object)"
      ]
     },
     "execution_count": 34,
     "metadata": {},
     "output_type": "execute_result"
    }
   ],
   "source": [
    "df[\"Country\"].unique()"
   ]
  },
  {
   "cell_type": "code",
   "execution_count": 35,
   "id": "15b645da",
   "metadata": {},
   "outputs": [],
   "source": [
    "india = df[df[\"Country\"]==\"India\"]\n",
    "india_cold = india[india[\"Category\"]==\"Cold Bewerages\"]"
   ]
  },
  {
   "cell_type": "code",
   "execution_count": 36,
   "id": "248306e3",
   "metadata": {},
   "outputs": [
    {
     "data": {
      "text/plain": [
       "72654819"
      ]
     },
     "execution_count": 36,
     "metadata": {},
     "output_type": "execute_result"
    }
   ],
   "source": [
    "india_cold[\"SalesValue\"].sum()"
   ]
  },
  {
   "cell_type": "code",
   "execution_count": 37,
   "id": "df7d3c09",
   "metadata": {},
   "outputs": [
    {
     "data": {
      "text/plain": [
       "Product\n",
       "Coca_Cola               8118843\n",
       "Fanta                   7376576\n",
       "Sprite                  7030389\n",
       "Limca                   6988173\n",
       "RimZim                  6519607\n",
       "Kinley                  5912224\n",
       "Maaza Original          5278792\n",
       "Thums Up                4537036\n",
       "Kinley Soda             3618489\n",
       "Coca_Cola Zero Sugar    3334793\n",
       "Name: SalesValue, dtype: int64"
      ]
     },
     "execution_count": 37,
     "metadata": {},
     "output_type": "execute_result"
    }
   ],
   "source": [
    "prods_india = india_cold.groupby(\"Product\")[\"SalesValue\"].sum().sort_values(ascending=False)[:10]\n",
    "prods_india"
   ]
  },
  {
   "cell_type": "code",
   "execution_count": 38,
   "id": "1d214f3b",
   "metadata": {},
   "outputs": [
    {
     "data": {
      "text/plain": [
       "Product\n",
       "Coca_Cola               11.17\n",
       "Fanta                   10.15\n",
       "Sprite                   9.68\n",
       "Limca                    9.62\n",
       "RimZim                   8.97\n",
       "Kinley                   8.14\n",
       "Maaza Original           7.27\n",
       "Thums Up                 6.24\n",
       "Kinley Soda              4.98\n",
       "Coca_Cola Zero Sugar     4.59\n",
       "Name: SalesValue, dtype: float64"
      ]
     },
     "execution_count": 38,
     "metadata": {},
     "output_type": "execute_result"
    }
   ],
   "source": [
    "round((prods_india/72654819)*100,2)"
   ]
  },
  {
   "cell_type": "code",
   "execution_count": 39,
   "id": "3888228b",
   "metadata": {},
   "outputs": [
    {
     "data": {
      "image/png": "[encoded data removed]",
      "text/plain": [
       "<Figure size 800x500 with 1 Axes>"
      ]
     },
     "metadata": {},
     "output_type": "display_data"
    }
   ],
   "source": [
    "fig,ax = plt.subplots(figsize=(8,5))\n",
    "bars = ax.barh(prods_india.index, np.round(((prods_india.values)/72654819)*100,2), color='skyblue',height=0.9,alpha=0.7) \n",
    "plt.yticks(fontsize=12)\n",
    "plt.xlabel('Sales Value(%)')  # Add label to x-axis\n",
    "plt.ylabel('Country',rotation=90)  # Add label to y-axis\n",
    "plt.title('Top Cold Products Distribution by Sales in India',fontweight=\"bold\",alpha=0.7)  # Add title to the plot\n",
    "plt.grid(axis='x', linestyle='--', alpha=0.7)  # Add gridlines\n",
    "plt.show()"
   ]
  },
  {
   "cell_type": "markdown",
   "id": "138b9081",
   "metadata": {},
   "source": [
    "#### `Results`\n",
    "Coca-Cola, Fanta, and Sprite lead the Indian cold beverage market with significant market shares. This highlights the enduring popularity of established brands.\n",
    "##### `Suggestions`\n",
    "1. Innovation: Introduce new flavors and packaging options.\n",
    "2. Expansion: Explore new regions and demographics.\n",
    "3. Marketing: Implement targeted campaigns.\n",
    "4. Partnerships: Collaborate with retailers for better distribution.\n",
    "5. Sustainability: Embrace eco-friendly practices for brand reputation."
   ]
  },
  {
   "cell_type": "code",
   "execution_count": 50,
   "id": "5b9234af",
   "metadata": {},
   "outputs": [
    {
     "data": {
      "text/plain": [
       "Product\n",
       "Cappuccino    2954846\n",
       "Latte         1894123\n",
       "Americano     1508760\n",
       "Cortado       1384151\n",
       "Espresso      1362509\n",
       "Hot Teas      1108614\n",
       "Flat White    1104134\n",
       "Name: SalesValue, dtype: int64"
      ]
     },
     "execution_count": 50,
     "metadata": {},
     "output_type": "execute_result"
    }
   ],
   "source": [
    "india_hot = india[india[\"Category\"]==\"Hot Bewerages\"]\n",
    "prods_india_1 = india_hot.groupby(\"Product\")[\"SalesValue\"].sum().sort_values(ascending=False)\n",
    "prods_india_1"
   ]
  },
  {
   "cell_type": "code",
   "execution_count": 47,
   "id": "f21eb8cf",
   "metadata": {},
   "outputs": [
    {
     "data": {
      "text/plain": [
       "11317137"
      ]
     },
     "execution_count": 47,
     "metadata": {},
     "output_type": "execute_result"
    }
   ],
   "source": [
    "india_hot[\"SalesValue\"].sum()"
   ]
  },
  {
   "cell_type": "code",
   "execution_count": 59,
   "id": "ae3cd05a",
   "metadata": {},
   "outputs": [
    {
     "data": {
      "text/plain": [
       "Product\n",
       "Cappuccino    26.109483\n",
       "Latte         16.736768\n",
       "Americano     13.331640\n",
       "Cortado       12.230576\n",
       "Espresso      12.039344\n",
       "Hot Teas       9.795887\n",
       "Flat White     9.756301\n",
       "Name: SalesValue, dtype: float64"
      ]
     },
     "execution_count": 59,
     "metadata": {},
     "output_type": "execute_result"
    }
   ],
   "source": [
    "prods_india_1 = (prods_india_1 / 11317137) * 100\n",
    "prods_india_1\n"
   ]
  },
  {
   "cell_type": "code",
   "execution_count": 61,
   "id": "ca199da6",
   "metadata": {},
   "outputs": [
    {
     "data": {
      "image/png": "[encoded data removed]",
      "text/plain": [
       "<Figure size 800x500 with 1 Axes>"
      ]
     },
     "metadata": {},
     "output_type": "display_data"
    }
   ],
   "source": [
    "fig,ax = plt.subplots(figsize=(8,5))\n",
    "bars = ax.barh(prods_india_1.index, prods_india_1.values, color='skyblue',height=0.9,alpha=0.7) \n",
    "plt.xlabel('Sales Value(%)')  # Add label to x-axis\n",
    "plt.ylabel('Country')  # Add label to y-axis\n",
    "plt.title('Top Hot Products Distribution by Sales in India',fontweight=\"bold\",alpha=0.7)  # Add title to the plot\n",
    "plt.grid(axis='x', linestyle='--', alpha=0.7)  # Add gridlines\n",
    "plt.xlim(0, 30)\n",
    "plt.show()"
   ]
  },
  {
   "cell_type": "markdown",
   "id": "c2ae5b6d",
   "metadata": {},
   "source": [
    "#### `Results:`\n",
    "Cappuccino leads the Indian hot beverage market, followed by Latte and Americano. Coffee-based options dominate, with a preference for variety.\n",
    "\n",
    "#### `Suggestions:`\n",
    "1. **Diversification:** Introduce more hot beverage options.\n",
    "2. **Promotion:** Market the unique features of each beverage.\n",
    "3. **Customization:** Offer personalized options.\n",
    "4. **Quality:** Maintain high-quality standards.\n",
    "5. **Seasonal Variations:** Consider seasonal offerings for variety."
   ]
  },
  {
   "cell_type": "markdown",
   "id": "a20a0314",
   "metadata": {},
   "source": [
    "### `Conclusion with Retailer Suggestion:`\n",
    "\n",
    "The analysis of our beverage sales data provides insightful observations into consumer preferences, market dynamics, and business performance over the past five years. Here's a condensed summary along with a tailored suggestion for retailers in India:\n",
    "\n",
    "1. **Sales Trends**: Our analysis reveals fluctuating trends in beverage sales from 2019 to 2023, with peak sales recorded in 2020. Despite market fluctuations, stability in order quantities and profits suggests a resilient performance.\n",
    "\n",
    "2. **Geographic Distribution**: India emerges as a key market, driving significant beverage sales. This underscores the importance of investing in the Indian market for sustained growth and expansion opportunities.\n",
    "\n",
    "3. **Brand Dominance**: Coca Cola emerges as the dominant brand, showcasing its strong presence and market share. Diverse brand offerings highlight opportunities for innovation and market penetration.\n",
    "\n",
    "4. **Product Analysis**: Cold beverages like Coca-Cola, Fanta, and Sprite dominate the Indian market, while Cappuccino leads in hot beverages. This indicates a potential growth avenue for retailers to explore.\n",
    "\n",
    "5. **Recommendation for Retailers**: Given the popularity of hot beverages like Cappuccino and the growing consumer interest in diverse beverage options, retailers in India could capitalize on this trend by expanding their hot beverage offerings. Adding more hot beverage varieties to their business could attract a broader customer base, enhance customer satisfaction, and drive sustained growth.\n",
    "\n",
    "In conclusion, leveraging insights from this analysis and implementing tailored strategies, such as focusing on expanding hot beverage offerings, can empower retailers in India to seize growth opportunities and stay competitive in the evolving beverage market landscape."
   ]
  }
 ],
 "metadata": {
  "kernelspec": {
   "display_name": "Python 3 (ipykernel)",
   "language": "python",
   "name": "python3"
  },
  "language_info": {
   "codemirror_mode": {
    "name": "ipython",
    "version": 3
   },
   "file_extension": ".py",
   "mimetype": "text/x-python",
   "name": "python",
   "nbconvert_exporter": "python",
   "pygments_lexer": "ipython3",
   "version": "3.9.13"
  }
 },
 "nbformat": 4,
 "nbformat_minor": 5
}
